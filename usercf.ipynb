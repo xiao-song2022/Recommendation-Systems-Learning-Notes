{
 "cells": [
  {
   "cell_type": "code",
   "execution_count": 20,
   "id": "07565e58",
   "metadata": {},
   "outputs": [],
   "source": [
    "import pandas as pd\n",
    "import numpy as np\n",
    "from sklearn.metrics.pairwise import cosine_similarity\n",
    "from scipy.stats import pearsonr"
   ]
  },
  {
   "cell_type": "code",
   "execution_count": 50,
   "id": "05b484aa",
   "metadata": {},
   "outputs": [],
   "source": [
    "def generate_random_data_with_none(n_users, m_items, seed=None):\n",
    "    # 设置随机数生成器的种子\n",
    "    np.random.seed(seed)\n",
    "    \n",
    "    # 生成随机数据\n",
    "    random_data = np.random.randint(-1, 2, size=(n_users, m_items)).astype(float)\n",
    "    \n",
    "    # 为用户1随机一个待推荐的item\n",
    "    random_item_index = np.random.choice(range(m_items))\n",
    "    random_data[0, random_item_index] = np.nan\n",
    "    \n",
    "    # 创建DataFrame\n",
    "    df = pd.DataFrame(random_data, columns=[f\"Item_{i+1}\" for i in range(m_items)], index=[f\"User_{i+1}\" for i in range(n_users)])\n",
    "    \n",
    "    return df, random_item_index\n"
   ]
  },
  {
   "cell_type": "code",
   "execution_count": 51,
   "id": "01d6efb8",
   "metadata": {},
   "outputs": [],
   "source": [
    "def calculate_similarity(data, method='cosine'):\n",
    "    # 删除包含NaN的列\n",
    "    data_without_nan = data[:, ~np.isnan(data).any(axis=0)]\n",
    "    \n",
    "    if method == 'cosine':\n",
    "        similarity_matrix = cosine_similarity(data_without_nan)\n",
    "    elif method == 'pearson':\n",
    "        similarity_matrix = np.zeros((data_without_nan.shape[0], data_without_nan.shape[0]))\n",
    "        for i in range(data_without_nan.shape[0]):\n",
    "            for j in range(data_without_nan.shape[0]):\n",
    "                if i != j:\n",
    "                    similarity_matrix[i, j] = pearsonr(data_without_nan[i], data_without_nan[j])[0]\n",
    "    return similarity_matrix"
   ]
  },
  {
   "cell_type": "code",
   "execution_count": 147,
   "id": "4b0b3a6e",
   "metadata": {},
   "outputs": [],
   "source": [
    "def recommend_items(user_id, data, similarity_matrix, top_n_users=3, top_n_items=2):\n",
    "    # 找出与用户最相似的top_n个用户\n",
    "    similar_users = np.argsort(similarity_matrix[user_id - 1])[::-1][1:top_n_users+1]\n",
    "    \n",
    "    # 找出用户尚未评价过的item\n",
    "    unrated_items = np.where(np.isnan(data.iloc[user_id - 1]))[0]\n",
    "    \n",
    "    # 如果用户没有未评价的item，则返回空列表\n",
    "    if len(unrated_items) == 0:\n",
    "        return []\n",
    "    \n",
    "    # 计算每个未评价item的推荐度\n",
    "    recommendation_scores = []\n",
    "    for item in unrated_items:\n",
    "        score = 0\n",
    "        total_similarity = 0\n",
    "        for sim_user in similar_users:\n",
    "            if not np.isnan(data.iloc[sim_user, item]):  # 如果相似用户已评价过该item\n",
    "                score += similarity_matrix[user_id - 1, sim_user] * data.iloc[sim_user, item]\n",
    "                total_similarity += similarity_matrix[user_id - 1, sim_user]\n",
    "        if total_similarity != 0:\n",
    "            recommendation_scores.append((item, score / total_similarity))\n",
    "    \n",
    "    # 如果没有推荐的item，则返回空列表\n",
    "    if len(recommendation_scores) == 0:\n",
    "        return []\n",
    "    \n",
    "    # 排序推荐度并返回前top_n_items个item\n",
    "    recommendation_scores.sort(key=lambda x: x[1], reverse=True)\n",
    "    top_recommendations = [(item, score) for item, score in recommendation_scores[:top_n_items]]\n",
    "    \n",
    "    return top_recommendations\n"
   ]
  },
  {
   "cell_type": "code",
   "execution_count": 148,
   "id": "3f71497b",
   "metadata": {},
   "outputs": [],
   "source": [
    "# 生成随机数据，并得到待推荐的item的索引\n",
    "random_df, random_item_index = generate_random_data_with_none(5, 5, seed)"
   ]
  },
  {
   "cell_type": "code",
   "execution_count": 149,
   "id": "0cb4b5bf",
   "metadata": {},
   "outputs": [],
   "source": [
    "similarity_matrix = calculate_similarity(random_df.values)"
   ]
  },
  {
   "cell_type": "code",
   "execution_count": 150,
   "id": "2cb58e86",
   "metadata": {},
   "outputs": [],
   "source": [
    "top_recommendations = recommend_items(1, random_df, similarity_matrix)"
   ]
  },
  {
   "cell_type": "code",
   "execution_count": 151,
   "id": "a0e0e4ed",
   "metadata": {},
   "outputs": [
    {
     "data": {
      "text/plain": [
       "[(4, -2.6694289264767616e-17)]"
      ]
     },
     "execution_count": 151,
     "metadata": {},
     "output_type": "execute_result"
    }
   ],
   "source": [
    "top_recommendations"
   ]
  },
  {
   "cell_type": "code",
   "execution_count": null,
   "id": "a3040c59",
   "metadata": {},
   "outputs": [],
   "source": []
  }
 ],
 "metadata": {
  "kernelspec": {
   "display_name": "Python 3 (ipykernel)",
   "language": "python",
   "name": "python3"
  },
  "language_info": {
   "codemirror_mode": {
    "name": "ipython",
    "version": 3
   },
   "file_extension": ".py",
   "mimetype": "text/x-python",
   "name": "python",
   "nbconvert_exporter": "python",
   "pygments_lexer": "ipython3",
   "version": "3.11.5"
  }
 },
 "nbformat": 4,
 "nbformat_minor": 5
}
